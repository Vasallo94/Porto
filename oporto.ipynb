{
 "cells": [
  {
   "cell_type": "markdown",
   "metadata": {},
   "source": [
    "**Table of contents**<a id='toc0_'></a>    \n",
    "1. [Estudio sobre datos de **AirBnB** de la ciudad de Porto y alrededores.](#toc1_)    \n",
    "1.1. [Importación de librerías, visualización y tratamientos de los dataset](#toc1_1_)    \n",
    "1.2. [Tratamiento de datos con KNN](#toc1_2_)    \n",
    "1.2.1. [Tratamiento de outliers](#toc1_2_1_)    \n",
    "1.3. [Análisis exploratorio](#toc1_3_)    \n",
    "1.4. [Filtro de distancias](#toc1_4_)    \n",
    "1.4.1. [Vecindario (aka Freguesia)](#toc1_4_1_)    \n",
    "1.4.2. [Mapa de la localización de los alojamientos](#toc1_4_2_)    \n",
    "1.5. [Tipos de propiedades y habitaciones](#toc1_5_)    \n",
    "1.5.1. [Tipos de habitaciones](#toc1_5_1_)    \n",
    "1.5.2. [Tipos de propiedades](#toc1_5_2_)    \n",
    "1.6. [Número de alojados](#toc1_6_)    \n",
    "1.7. [Analítica al servicio del gobierno.](#toc1_7_)    \n",
    "1.8. [Consejos al turismo](#toc1_8_)    \n",
    "1.8.1. [Precio medio por vecindario](#toc1_8_1_)    \n",
    "1.8.1.1. [Mapa del precio medio por localizaciones](#toc1_8_1_1_)    \n",
    "1.8.1.2. [Qué áreas de Oporto serán las más rentables para alquilar](#toc1_8_1_2_)    \n",
    "1.8.1.3. [Mapa de calor con los precios más altos](#toc1_8_1_3_)    \n",
    "1.8.2. [Seguridad del vecindario](#toc1_8_2_)    \n",
    "1.8.3. [Review scores location, and location scores versus price](#toc1_8_3_)    \n",
    "1.9. [Cómo usar las puntuaciones de las opiniones](#toc1_9_)    \n",
    "1.9.1. [Encontrando un buen hospedador](#toc1_9_1_)    \n",
    "1.10. [Disponibilidad en el tiempo](#toc1_10_)    \n",
    "1.10.1. [Precio medio por día](#toc1_10_1_)    \n",
    "1.11. [Minería de texto con las reviews](#toc1_11_)    \n",
    "1.12. [Mapa de Porto con AOI](#toc1_12_)    \n",
    "\n",
    "<!-- vscode-jupyter-toc-config\n",
    "\tnumbering=true\n",
    "\tanchor=true\n",
    "\tflat=true\n",
    "\tminLevel=1\n",
    "\tmaxLevel=6\n",
    "\t/vscode-jupyter-toc-config -->\n",
    "<!-- THIS CELL WILL BE REPLACED ON TOC UPDATE. DO NOT WRITE YOUR TEXT IN THIS CELL -->"
   ]
  },
  {
   "cell_type": "markdown",
   "metadata": {},
   "source": [
    "# 1. <a id='toc1_'></a>[Estudio sobre datos de **AirBnB** de la ciudad de Porto y alrededores.](#toc0_)"
   ]
  },
  {
   "cell_type": "markdown",
   "metadata": {},
   "source": [
    "## 1.1. <a id='toc1_1_'></a>[Importación de librerías, visualización y tratamientos de los dataset](#toc0_)"
   ]
  },
  {
   "cell_type": "code",
   "execution_count": null,
   "metadata": {},
   "outputs": [],
   "source": [
    "import warnings\n",
    "\n",
    "import matplotlib.pyplot as plt\n",
    "import numpy as np\n",
    "import pandas as pd\n",
    "import seaborn as sns\n",
    "\n",
    "from utils.funciones import *\n",
    "\n",
    "warnings.simplefilter(action=\"ignore\", category=FutureWarning)\n",
    "\n",
    "# mapas interactivos\n",
    "import folium\n",
    "import geopandas as gpd\n",
    "import plotly.graph_objects as go\n",
    "import plotly.io as pio\n",
    "import plotly.subplots as sp\n",
    "\n",
    "# to make the plotly graphs\n",
    "import plotly_express as px\n",
    "from branca.colormap import LinearColormap\n",
    "from folium.plugins import FastMarkerCluster, HeatMap\n",
    "\n",
    "# Establecer el tema oscuro como predeterminado\n",
    "pio.templates.default = \"plotly_dark\"\n",
    "\n",
    "from prettymapp.geo import get_aoi\n",
    "from prettymapp.osm import get_osm_geometries\n",
    "from prettymapp.plotting import Plot\n",
    "from prettymapp.settings import STYLES\n",
    "from scipy import stats\n"
   ]
  },
  {
   "cell_type": "code",
   "execution_count": null,
   "metadata": {},
   "outputs": [],
   "source": [
    "df_calendar = pd.read_csv('http://data.insideairbnb.com/portugal/norte/porto/2022-12-16/data/calendar.csv.gz', parse_dates=['date'], index_col=['listing_id'])\n",
    "#df_calendar.to_csv('input/calendar.csv', index=False)"
   ]
  },
  {
   "cell_type": "code",
   "execution_count": null,
   "metadata": {},
   "outputs": [],
   "source": [
    "df_listing_detailed = pd.read_csv('http://data.insideairbnb.com/portugal/norte/porto/2022-12-16/data/listings.csv.gz', index_col= [\"id\"])\n",
    "#df_listing_detailed.to_csv('output/listings_detailed.csv', index=False)"
   ]
  },
  {
   "cell_type": "code",
   "execution_count": null,
   "metadata": {},
   "outputs": [],
   "source": [
    "df_reviews = pd.read_csv('http://data.insideairbnb.com/portugal/norte/porto/2022-12-16/data/reviews.csv.gz', parse_dates=['date'])\n",
    "#df_reviews.to_csv('input/reviews.csv', index=False)"
   ]
  },
  {
   "cell_type": "code",
   "execution_count": null,
   "metadata": {},
   "outputs": [],
   "source": [
    "df_listing = pd.read_csv('http://data.insideairbnb.com/portugal/norte/porto/2022-12-16/visualisations/listings.csv', index_col= [\"id\"])\n",
    "#df_listing.to_csv('output/listings.csv', index=False)"
   ]
  },
  {
   "cell_type": "code",
   "execution_count": null,
   "metadata": {},
   "outputs": [],
   "source": [
    "df_listing_detailed['price'] = df_listing_detailed['price'].replace('[$,]', '', regex=True)\n",
    "df_listing_detailed['price'] = df_listing_detailed['price'].astype(float).round().astype(int)"
   ]
  },
  {
   "cell_type": "code",
   "execution_count": null,
   "metadata": {},
   "outputs": [],
   "source": [
    "df_oporto_review = df_listing # Copio el df aquí para usar las review después en la sección de la Nube de palabras"
   ]
  },
  {
   "cell_type": "code",
   "execution_count": null,
   "metadata": {},
   "outputs": [],
   "source": [
    "df_listing_detailed.head()"
   ]
  },
  {
   "cell_type": "code",
   "execution_count": null,
   "metadata": {},
   "outputs": [],
   "source": [
    "df_listing_detailed.columns"
   ]
  },
  {
   "attachments": {},
   "cell_type": "markdown",
   "metadata": {},
   "source": [
    "Aquí lo que hago es un left outer join, seguido de un right outer join en el que se excluyan las columnas que ya se han unido en el left join para evitar la duplicación. Con un merge tan solo de pandas no funciona. "
   ]
  },
  {
   "attachments": {},
   "cell_type": "markdown",
   "metadata": {},
   "source": [
    "Seleccionamos las columnas con las que vamos a trabajar."
   ]
  },
  {
   "cell_type": "code",
   "execution_count": null,
   "metadata": {},
   "outputs": [],
   "source": [
    "df_listing.columns\n"
   ]
  },
  {
   "cell_type": "code",
   "execution_count": null,
   "metadata": {},
   "outputs": [],
   "source": [
    "target_columns = [\"accommodates\", \"host_is_superhost\", \"host_response_rate\", \"host_response_time\", \"listing_url\",  \"maximum_nights\",  \"property_type\", \"review_scores_accuracy\", \"review_scores_checkin\", \"review_scores_cleanliness\", \"review_scores_communication\", \"review_scores_location\", \"review_scores_rating\", \"review_scores_value\"]\n",
    "\n",
    "# \"host_about\","
   ]
  },
  {
   "cell_type": "code",
   "execution_count": null,
   "metadata": {},
   "outputs": [],
   "source": [
    "oporto_merge = pd.merge(df_listing, df_listing_detailed[target_columns], on= 'id', how='left')\n",
    "\n",
    "cols = df_listing.columns\n",
    "\n",
    "oporto = oporto_merge\n",
    "\n",
    "#oportopreknn = oporto.to_csv('output/oportopreknn.csv')\n",
    "# ! Este csv está para ver que una vez se ha hecho el merge ya aparecen los errores en las columnas. A partir de cierto valor parece que una fila se convierte en dos dejando las columnas del final de dicha línea sin rellenar y empezando a rellenar por las columnas del principio de la fila siguiente con las columnas del final de la línea que ha cortado.\n",
    "oporto.info()"
   ]
  },
  {
   "cell_type": "code",
   "execution_count": null,
   "metadata": {},
   "outputs": [],
   "source": [
    "oporto.isnull().sum()"
   ]
  },
  {
   "cell_type": "code",
   "execution_count": null,
   "metadata": {},
   "outputs": [],
   "source": [
    "plt.figure(figsize=(15, 5))\n",
    "sns.heatmap(oporto.isnull(), yticklabels=False, cbar=True, cmap=\"viridis\");"
   ]
  },
  {
   "cell_type": "code",
   "execution_count": null,
   "metadata": {},
   "outputs": [],
   "source": [
    "oporto[['host_id', 'price', 'minimum_nights', 'number_of_reviews', 'calculated_host_listings_count',    'availability_365', 'number_of_reviews_ltm', 'accommodates', 'maximum_nights']] = oporto[['host_id', 'price', 'minimum_nights', 'number_of_reviews', 'calculated_host_listings_count',                                                                                                 'availability_365', 'number_of_reviews_ltm', 'accommodates', 'maximum_nights']].astype(int)\n",
    "oporto['host_response_rate'] = oporto['host_response_rate'].str.replace('%', '').fillna(0) #cambiamos los NaN por 0\n",
    "oporto['host_response_rate'] = oporto['host_response_rate'].astype(int)\n",
    "# oporto['last_review'] = pd.to_datetime(oporto['last_review'], format='%Y-%m-%d')\n",
    "# oporto['first_review'] = pd.to_datetime(oporto['first_review'], format='%Y-%m-%d') \n",
    "#! convertir aquí las columnas temporales da error en el KNN hacer después"
   ]
  },
  {
   "cell_type": "code",
   "execution_count": null,
   "metadata": {},
   "outputs": [],
   "source": [
    "oporto.head()"
   ]
  },
  {
   "cell_type": "markdown",
   "metadata": {},
   "source": [
    "## 1.2. <a id='toc1_2_'></a>[Tratamiento de datos con KNN](#toc0_)"
   ]
  },
  {
   "cell_type": "code",
   "execution_count": null,
   "metadata": {},
   "outputs": [],
   "source": [
    "oporto.duplicated().sum()"
   ]
  },
  {
   "cell_type": "code",
   "execution_count": null,
   "metadata": {},
   "outputs": [],
   "source": [
    "oporto.columns"
   ]
  },
  {
   "cell_type": "code",
   "execution_count": null,
   "metadata": {},
   "outputs": [],
   "source": [
    "df_encoded, encoded_info = fritas(oporto)"
   ]
  },
  {
   "cell_type": "code",
   "execution_count": null,
   "metadata": {},
   "outputs": [],
   "source": [
    "target_column = \"price\"\n",
    "bestkar = bravas(df_encoded, target_column)"
   ]
  },
  {
   "cell_type": "code",
   "execution_count": null,
   "metadata": {},
   "outputs": [],
   "source": [
    "bestkar"
   ]
  },
  {
   "cell_type": "code",
   "execution_count": null,
   "metadata": {},
   "outputs": [],
   "source": [
    "df_imputed = impute_missing_values_with_knn(df_encoded, bestkar)"
   ]
  },
  {
   "cell_type": "code",
   "execution_count": null,
   "metadata": {},
   "outputs": [],
   "source": [
    "df_imputed.isnull().sum()"
   ]
  },
  {
   "cell_type": "code",
   "execution_count": null,
   "metadata": {},
   "outputs": [],
   "source": [
    "df_imputed.head()"
   ]
  },
  {
   "cell_type": "code",
   "execution_count": null,
   "metadata": {},
   "outputs": [],
   "source": [
    "oporto_imputed_decode = desfritas(df_imputed, encoded_info)"
   ]
  },
  {
   "cell_type": "code",
   "execution_count": null,
   "metadata": {},
   "outputs": [],
   "source": [
    "oporto_imputed_decode"
   ]
  },
  {
   "cell_type": "code",
   "execution_count": null,
   "metadata": {},
   "outputs": [],
   "source": [
    "plt.figure(figsize=(15, 5))\n",
    "sns.heatmap(oporto_imputed_decode.isnull(), yticklabels=False, cbar=True, cmap=\"viridis\");"
   ]
  },
  {
   "attachments": {},
   "cell_type": "markdown",
   "metadata": {},
   "source": [
    "<font color='red'>OJO: muchos de estos valores de la columas de scores están imputados por -1 porque no ha habido forma de que el KNN los lograra rellenar bien o por NaN o NULL. El encoder trata los elementos vacíos y los encodea y luego a la vuelta del decoder esos valores el KNN no los ha tratado. Hay que pensar cómo mejorar la función __fritas__ para que no encodee los valores nulos y así el KNN pueda arreglarlos. <font>"
   ]
  },
  {
   "cell_type": "code",
   "execution_count": null,
   "metadata": {},
   "outputs": [],
   "source": [
    "oporto_imputed_decode.dtypes"
   ]
  },
  {
   "cell_type": "code",
   "execution_count": null,
   "metadata": {},
   "outputs": [],
   "source": [
    "oporto_imputed_decode = pd.DataFrame(oporto_imputed_decode).reset_index()"
   ]
  },
  {
   "cell_type": "code",
   "execution_count": null,
   "metadata": {},
   "outputs": [],
   "source": [
    "#oporto_imputed_decode.to_csv(\"output/oporto_test_trimmed.csv\", index=True, compression='infer', header=True, chunksize=10000, encoding='UTF-16', date_format=None)\n",
    "# ? No sé ni qué hace esto, Demetrio..."
   ]
  },
  {
   "cell_type": "code",
   "execution_count": null,
   "metadata": {},
   "outputs": [],
   "source": [
    "oporto_imputed_decode"
   ]
  },
  {
   "cell_type": "code",
   "execution_count": null,
   "metadata": {},
   "outputs": [],
   "source": [
    "oporto_imputed_decode['latitude'].sort_values(ascending=False)"
   ]
  },
  {
   "cell_type": "markdown",
   "metadata": {},
   "source": [
    "### 1.2.1. <a id='toc1_2_1_'></a>[Tratamiento de outliers](#toc0_)"
   ]
  },
  {
   "cell_type": "code",
   "execution_count": null,
   "metadata": {},
   "outputs": [],
   "source": [
    "oporto_imputed_decode=oporto_imputed_decode[(np.abs(stats.zscore(oporto_imputed_decode['price'])) < 3)]"
   ]
  },
  {
   "cell_type": "markdown",
   "metadata": {},
   "source": [
    "## 1.3. <a id='toc1_3_'></a>[Análisis exploratorio](#toc0_)"
   ]
  },
  {
   "cell_type": "markdown",
   "metadata": {},
   "source": [
    "## 1.4. <a id='toc1_4_'></a>[Filtro de distancias](#toc0_)"
   ]
  },
  {
   "attachments": {},
   "cell_type": "markdown",
   "metadata": {},
   "source": [
    "La fórmula de Haversine es una fórmula matemática que se utiliza para calcular la distancia entre dos puntos en la superficie de una esfera, como la Tierra. La fórmula se basa en la longitud y la latitud de los dos puntos, y utiliza la ley de los cosenos para calcular la distancia entre ellos.\n",
    "\n",
    "La fórmula de Haversine se puede expresar de la siguiente manera:\n",
    "\n",
    "$$d = 2 R * \\arcsin\\left(\\sqrt{\\sin^2\\left(\\frac{lat_2-lat_1}{2}\\right) + \\cos(lat_1)\\cos(lat_2)\\sin^2\\left(\\frac{lon_2-lon_1}{2}\\right)}\\right)$$\n",
    "\n",
    "donde:\n",
    "\n",
    "- d es la distancia entre los dos puntos en la superficie de la esfera\n",
    "- R es el radio de la esfera (en metros, kilómetros, millas, etc.)\n",
    "- $lat_1$ y $lat_2$ son las latitudes de los dos puntos (en radianes o grados)\n",
    "- $lon_1$ y $lon_2$ son las longitudes de los dos puntos (en radianes o grados)"
   ]
  },
  {
   "cell_type": "code",
   "execution_count": null,
   "metadata": {},
   "outputs": [],
   "source": [
    "df_distancia = filtrar_por_distancia(oporto_imputed_decode, 20)"
   ]
  },
  {
   "cell_type": "code",
   "execution_count": null,
   "metadata": {},
   "outputs": [],
   "source": [
    "df_55 = filtrar_por_distancia(oporto_imputed_decode,55)\n",
    "df_55.to_csv('output/df_55.csv', index= True)\n",
    "\n",
    "#* Este df va a servir para pasarlo a streamlit y en vez de pasar el oporto y la función de filtro por distancias directamente con el slider se seleccionarán los elementos del dataset con la distancia < a la fijada en el slider."
   ]
  },
  {
   "cell_type": "code",
   "execution_count": null,
   "metadata": {},
   "outputs": [],
   "source": [
    "df_distancia"
   ]
  },
  {
   "cell_type": "code",
   "execution_count": null,
   "metadata": {},
   "outputs": [],
   "source": [
    "df_distancia['distancia'].describe().T"
   ]
  },
  {
   "cell_type": "code",
   "execution_count": null,
   "metadata": {},
   "outputs": [],
   "source": [
    "df_distancia.head()"
   ]
  },
  {
   "cell_type": "code",
   "execution_count": null,
   "metadata": {},
   "outputs": [],
   "source": [
    "df_distancia.dtypes"
   ]
  },
  {
   "cell_type": "code",
   "execution_count": null,
   "metadata": {},
   "outputs": [],
   "source": [
    "df_distancia.count()"
   ]
  },
  {
   "cell_type": "code",
   "execution_count": null,
   "metadata": {},
   "outputs": [],
   "source": [
    "correlation_papa(df_distancia, annot=False)"
   ]
  },
  {
   "cell_type": "markdown",
   "metadata": {},
   "source": [
    "### 1.4.1. <a id='toc1_4_1_'></a>[Vecindario (aka Freguesia)](#toc0_)"
   ]
  },
  {
   "cell_type": "code",
   "execution_count": null,
   "metadata": {},
   "outputs": [],
   "source": [
    "feq = oporto['neighbourhood'].value_counts().sort_values(ascending=True)\n",
    "feq = feq[feq>500]\n",
    "\n",
    "fig = px.bar(feq, x=feq.values, y=feq.index, orientation='h')\n",
    "fig.update_layout(\n",
    "    title=\"Number of listings by neighbourhood\",\n",
    "    xaxis_title=\"Number of listings\",\n",
    "    yaxis_title=\"Neighbourhood\",\n",
    "    font=dict(size=12)\n",
    ")\n",
    "fig.show()"
   ]
  },
  {
   "attachments": {},
   "cell_type": "markdown",
   "metadata": {},
   "source": [
    "La Unión de las Parroquias de Cedofeita, Santo Ildefonso, Sé, Miragaia, São Nicolau e Vitória, también conocida como Unión de Parroquias del Centro Histórico de Oporto, es una parroquia portuguesa del municipio de Oporto, creada por la Ley n.º 11-A/2013 de 28 de enero, que une las antiguas parroquias de Cedofeita, Santo Ildefonso, Sé, Miragaia, São Nicolau y Vitória.\n",
    "\n",
    "Tiene una superficie total de 5,43 km², una población de 37.436 habitantes (2021) y una densidad de población de 7.447,5 habitantes por km².\n",
    "\n",
    "En resumen, la Unión de Parroquias de Cedofeita, Santo Ildefonso, Sé, Miragaia, São Nicolau e Vitória es una entidad administrativa portuguesa que se creó en 2013, que unió seis antiguas parroquias y ahora se conoce como la Unión de Parroquias del Centro Histórico de Oporto. La parroquia tiene una población de alrededor de 37.436 personas y una densidad de población bastante alta de 7.447,5 habitantes por km².\n",
    "\n",
    "La palabra \"freguesia\" proviene del latín \"filium ecclesiae\", que significa \"hijo de la iglesia\". En Portugal, el antiguo Imperio Portugués y el Imperio de Brasil, una freguesia es la unidad administrativa más pequeña y obligatoria de los municipios, similar a una parroquia civil en otros países. Cada municipio tiene al menos una freguesia, y en algunos casos el territorio de una freguesia coincide con el del municipio."
   ]
  },
  {
   "cell_type": "markdown",
   "metadata": {},
   "source": [
    "### 1.4.2. <a id='toc1_4_2_'></a>[Mapa de la localización de los alojamientos](#toc0_)"
   ]
  },
  {
   "cell_type": "code",
   "execution_count": null,
   "metadata": {},
   "outputs": [],
   "source": [
    "lats = df_distancia['latitude'].tolist()\n",
    "lons = df_distancia['longitude'].tolist()\n",
    "locations = list(zip(lats, lons)) #Guardamos latitudes y longitudes, hacemos una tupla y las cambiamos a una lista.\n",
    "\n",
    "map1 = folium.Map(location=[41.1496, -8.6109], zoom_start=12) # Le das una lat y lon inicial y un zoom inicial para representar el mapa\n",
    "FastMarkerCluster(data=locations).add_to(map1) # Te añade las localizaciones al mapa generado anteriormente\n",
    "folium.Marker(location=[41.1496, -8.6109]).add_to(map1)\n",
    "map1"
   ]
  },
  {
   "cell_type": "markdown",
   "metadata": {},
   "source": [
    "## 1.5. <a id='toc1_5_'></a>[Tipos de propiedades y habitaciones](#toc0_)"
   ]
  },
  {
   "cell_type": "markdown",
   "metadata": {},
   "source": [
    "### 1.5.1. <a id='toc1_5_1_'></a>[Tipos de habitaciones](#toc0_)"
   ]
  },
  {
   "attachments": {},
   "cell_type": "markdown",
   "metadata": {},
   "source": [
    "Buscar info sobre ley en oporto \n",
    "\n",
    "_El tipo de habitación es muy importante en Ámsterdam, porque Ámsterdam tiene la regla de que las casas/apartamentos completos solo se pueden alquilar a través de Airbnb por un máximo de 60 días al año. A continuación, podemos ver que esta restricción se aplica a la mayoría de los listados._"
   ]
  },
  {
   "cell_type": "code",
   "execution_count": null,
   "metadata": {},
   "outputs": [],
   "source": [
    "freq = df_distancia['room_type'].value_counts().sort_values(ascending=True)\n",
    "\n",
    "fig = px.bar(freq, orientation='h', color=freq.index,\n",
    "             labels={'y': 'Room Type', 'x': 'Number of Listings'})\n",
    "fig.update_layout(title=\"Number of Listings by Room Type\",\n",
    "                  xaxis_title=\"Number of Listings\",\n",
    "                  yaxis_title=\"Room Type\",\n",
    "                  height=400, width=800)\n",
    "fig.show()"
   ]
  },
  {
   "cell_type": "markdown",
   "metadata": {},
   "source": [
    "### 1.5.2. <a id='toc1_5_2_'></a>[Tipos de propiedades](#toc0_)\n",
    "\n",
    "En el conjunto de datos, encontramos muchos tipos de propiedades diferentes."
   ]
  },
  {
   "cell_type": "code",
   "execution_count": null,
   "metadata": {},
   "outputs": [],
   "source": [
    "df_distancia['property_type'].unique()"
   ]
  },
  {
   "attachments": {},
   "cell_type": "markdown",
   "metadata": {},
   "source": [
    "_Sin embargo, muchos de esos tipos de propiedades tienen muy pocos listados en Ámsterdam. En la figura a continuación, solo mostramos tipos de propiedades con al menos 100 listados. Como podemos ver, la gran mayoría de las propiedades en Ámsterdam son apartamentos._"
   ]
  },
  {
   "cell_type": "code",
   "execution_count": null,
   "metadata": {},
   "outputs": [],
   "source": [
    "prop = df_distancia.groupby(['property_type','room_type']).room_type.count()\n",
    "prop = prop.unstack()\n",
    "prop['total'] = prop.iloc[:,0:3].sum(axis = 1)\n",
    "prop = prop.sort_values(by=['total'])\n",
    "prop = prop[prop['total']>=100]\n",
    "prop = prop.drop(columns=['total'])\n",
    "\n",
    "fig = px.bar(prop, barmode='stack', orientation='h',\n",
    "             color_discrete_sequence=[\"rgb(255, 102, 102)\", \"rgb(102, 178, 255)\", \"rgb(102, 255, 178)\"],\n",
    "             width=1000, height=600)\n",
    "fig.update_layout(title='Property types in Oporto', xaxis_title='Number of listings', yaxis_title='',\n",
    "                  legend_title='', font=dict(size=14))\n",
    "fig.show()"
   ]
  },
  {
   "cell_type": "markdown",
   "metadata": {},
   "source": [
    "## 1.6. <a id='toc1_6_'></a>[Número de alojados](#toc0_)\n",
    "_\n",
    "Como era de esperar, la mayoría de los listados son para 2 personas. Además, Airbnb utiliza un máximo de 16 huéspedes por anuncio._"
   ]
  },
  {
   "cell_type": "code",
   "execution_count": null,
   "metadata": {},
   "outputs": [],
   "source": [
    "feq = df_distancia['accommodates'].value_counts().sort_index().reset_index()\n",
    "feq.columns = ['Accommodates', 'Number of listings']\n",
    "fig = px.bar(feq, x='Accommodates', y='Number of listings', \n",
    "             color='Accommodates',\n",
    "             width=700, height=500)\n",
    "fig.update_layout(title={'text':\"Accommodates (number of people)\", 'x':0.5},\n",
    "                  xaxis_title='Accommodates', yaxis_title='Number of listings',\n",
    "                  font=dict(size=14))\n",
    "fig.show()"
   ]
  },
  {
   "attachments": {},
   "cell_type": "markdown",
   "metadata": {},
   "source": [
    "_Sin embargo, Ámsterdam tiene una restricción adicional. Debido a las consideraciones de riesgo de incendio y también teniendo en cuenta un posible grupo ruidoso, los propietarios solo pueden alquilar su propiedad a grupos con un máximo de 4 personas. ¡Esto realmente significa que las listas que indican que el número máximo de personas es superior a 4 están infringiendo esta regla!_"
   ]
  },
  {
   "cell_type": "code",
   "execution_count": null,
   "metadata": {},
   "outputs": [],
   "source": [
    "df_distancia[df_distancia['accommodates']>15].head()"
   ]
  },
  {
   "cell_type": "markdown",
   "metadata": {},
   "source": [
    "## 1.7. <a id='toc1_7_'></a>[Analítica al servicio del gobierno.](#toc0_)"
   ]
  },
  {
   "cell_type": "markdown",
   "metadata": {},
   "source": [
    "## 1.8. <a id='toc1_8_'></a>[Consejos al turismo](#toc0_)"
   ]
  },
  {
   "cell_type": "markdown",
   "metadata": {},
   "source": [
    "### 1.8.1. <a id='toc1_8_1_'></a>[Precio medio por vecindario](#toc0_)"
   ]
  },
  {
   "attachments": {},
   "cell_type": "markdown",
   "metadata": {},
   "source": [
    "_Para comparar \"manzanas con manzanas\" solo seleccionaremos el tipo de alojamiento más común, que es el alojamiento para 2 personas. Como era de esperar, el alojamiento en el centro de la ciudad es el más caro._"
   ]
  },
  {
   "cell_type": "code",
   "execution_count": null,
   "metadata": {},
   "outputs": [],
   "source": [
    "feq = df_distancia[df_distancia['accommodates']==2]\n",
    "feq = feq.groupby('neighbourhood')['price'].mean().sort_values(ascending=True)\n",
    "\n",
    "fig = px.bar(feq, orientation='h', width=800, height=1200, color=feq.values,\n",
    "             color_continuous_scale='RdYlGn_r', labels={'y':'Neighbourhood', 'x':'Average daily price (Euro)'},\n",
    "             title='Average daily price for a 2-persons accommodation', template='plotly_dark')\n",
    "\n",
    "fig.update_layout(template='plotly_dark')\n",
    "fig.show()"
   ]
  },
  {
   "cell_type": "markdown",
   "metadata": {},
   "source": [
    "#### 1.8.1.1. <a id='toc1_8_1_1_'></a>[Mapa del precio medio por localizaciones](#toc0_)"
   ]
  },
  {
   "cell_type": "code",
   "execution_count": null,
   "metadata": {},
   "outputs": [],
   "source": [
    "# Read in data\n",
    "porto_geojson = \"http://data.insideairbnb.com/portugal/norte/porto/2022-12-16/visualisations/neighbourhoods.geojson\"\n",
    "porto_gdf = gpd.read_file(porto_geojson)\n"
   ]
  },
  {
   "cell_type": "code",
   "execution_count": null,
   "metadata": {},
   "outputs": [],
   "source": [
    "\n",
    "# Calculate mean price by neighborhood for listings that accommodate 2 people\n",
    "mean_prices = df_distancia.loc[df_distancia['accommodates'] == 2].groupby('neighbourhood')['price'].mean()\n",
    "\n",
    "# Join the mean prices to the geojson\n",
    "porto_gdf = porto_gdf.join(mean_prices, on='neighbourhood')\n",
    "\n",
    "# Drop neighborhoods without mean prices\n",
    "porto_gdf.dropna(subset=['price'], inplace=True)\n",
    "\n",
    "# Round the mean prices and create a dictionary for the color map\n",
    "price_dict = porto_gdf.set_index('neighbourhood')['price'].round().to_dict()\n",
    "\n",
    "# Define color map\n",
    "color_scale = LinearColormap(['green', 'yellow', 'red'], vmin=min(price_dict.values()), vmax=max(price_dict.values()), caption='Average price')\n",
    "\n",
    "# Define style and highlight functions\n",
    "def style_function(feature):\n",
    "    return {\n",
    "        'fillColor': color_scale(price_dict.get(feature['properties']['neighbourhood'], 0)),\n",
    "        'color': 'black',\n",
    "        'weight': 1,\n",
    "        'dashArray': '5, 5',\n",
    "        'fillOpacity': 0.5\n",
    "    }\n",
    "\n",
    "def highlight_function(feature):\n",
    "    return {\n",
    "        'weight': 3,\n",
    "        'fillColor': color_scale(price_dict.get(feature['properties']['neighbourhood'], 0)),\n",
    "        'fillOpacity': 0.8\n",
    "    }\n",
    "\n",
    "# Create map\n",
    "map3 = folium.Map(location=[41.1496, -8.6109], zoom_start=11)\n",
    "\n",
    "# Add geojson layer to map with tooltip and style and highlight functions\n",
    "folium.GeoJson(\n",
    "    data=porto_gdf,\n",
    "    name='Oporto',\n",
    "    tooltip=folium.features.GeoJsonTooltip(fields=['neighbourhood', 'price'], labels=True, sticky=False),\n",
    "    style_function=style_function,\n",
    "    highlight_function=highlight_function\n",
    ").add_to(map3)\n",
    "\n",
    "# Add marker to map\n",
    "folium.Marker(location=[41.1496, -8.6109]).add_to(map3)\n",
    "\n",
    "# Add color scale to map\n",
    "map3.add_child(color_scale)\n",
    "\n",
    "\n",
    "\n",
    "\n",
    "\n",
    "# contador = 0 \n",
    "# \"tu bucle for\"\n",
    "# contador += 1\n",
    "# if contador > 99 #pordeciralgo:\n",
    "#      print(f\"límite alcanzado\")\n",
    "#      break "
   ]
  },
  {
   "cell_type": "markdown",
   "metadata": {},
   "source": [
    "#### 1.8.1.2. <a id='toc1_8_1_2_'></a>[Qué áreas de Oporto serán las más rentables para alquilar](#toc0_)"
   ]
  },
  {
   "attachments": {},
   "cell_type": "markdown",
   "metadata": {},
   "source": [
    "Basándonos en las localizaciones más turísticas de la ciudad de Oporto haremos una correlación con el precio para poder determinar cuáles son las zonas más rentables para tener un Airbnb."
   ]
  },
  {
   "cell_type": "markdown",
   "metadata": {},
   "source": [
    "#### 1.8.1.3. <a id='toc1_8_1_3_'></a>[Mapa de calor con los precios más altos](#toc0_)"
   ]
  },
  {
   "cell_type": "code",
   "execution_count": null,
   "metadata": {},
   "outputs": [],
   "source": [
    "# Mapa de calor basándome en uno de Demetrio\n",
    "\n",
    "# Get the minimum and maximum price values\n",
    "min_price = df_distancia['price'].min()\n",
    "max_price = df_distancia['price'].max()\n",
    "# Define the color scale for the legend\n",
    "color_scale = LinearColormap(['green', 'yellow', 'red'], vmin=min_price, vmax=max_price, caption='Precio')\n",
    "\n",
    "\n",
    "\n",
    "\n",
    "# Create the map\n",
    "calorsita = folium.Map(location=[41.1496, -8.6109], tiles='cartodbpositron', zoom_start=12)\n",
    "\n",
    "# Add a heatmap to the base map\n",
    "HeatMap(data=df_distancia[['latitude', 'longitude', 'price']],\n",
    "        radius=20,\n",
    "        gradient={0.2: 'green', 0.5: 'yellow', 1: 'red'},\n",
    "        min_opacity=0.2).add_to(calorsita)\n",
    "\n",
    "# Add the color scale legend\n",
    "calorsita.add_child(color_scale)\n",
    "\n",
    "\n",
    "# Display the map\n",
    "calorsita\n"
   ]
  },
  {
   "cell_type": "markdown",
   "metadata": {},
   "source": [
    "### 1.8.2. <a id='toc1_8_2_'></a>[Seguridad del vecindario](#toc0_)"
   ]
  },
  {
   "cell_type": "markdown",
   "metadata": {},
   "source": [
    "### 1.8.3. <a id='toc1_8_3_'></a>[Review scores location, and location scores versus price](#toc0_)"
   ]
  },
  {
   "attachments": {},
   "cell_type": "markdown",
   "metadata": {},
   "source": [
    "En esta sección, agrupamos los puntajes de revisión de la ubicación por vecindario (solo listados con al menos 10 revisiones). Aunque esperamos que la distancia al centro de la ciudad sea un factor importante, esta puntuación también debería tener en cuenta otras cosas. Otros factores pueden incluir:\n",
    "\n",
    "* La seguridad de una ubicación (como se muestra en la sección anterior)\n",
    "* Ruido. Si una lista tiene una ubicación central, pero está rodeada de bares ruidosos, eso debería costar puntos en el puntaje de revisión de la ubicación.\n",
    "* Si un listado está ubicado fuera del centro de la ciudad pero bien conectado por transporte público, debería obtener puntos de bonificación por eso.\n",
    "* Instalaciones cercanas al listado. ¿Hay supermercados, bares y restaurantes cerca?\n",
    "* Puede que algunas personas busquen aparcamiento gratuito si vienen en coche (el aparcamiento es muy caro en Ámsterdam en general).\n",
    "\n",
    "A continuación, vemos que los vecindarios centrales, que generalmente también fueron los más caros, generalmente también obtienen una puntuación más alta en la puntuación de revisión de ubicación. Si calculara la distancia al centro de la ciudad para cada listado, espero ver correlaciones bastante fuertes entre esta distancia con el puntaje de revisión del precio y la ubicación.\n",
    "\n",
    "Al mirar el puntaje promedio de revisión, me sorprende ver que el promedio está por encima de 8/10 para todos los vecindarios. Ámsterdam es una ciudad pequeña (¡mucho más pequeña de lo que mucha gente piensa!). Por lo tanto, no lleva mucho tiempo llegar al centro de la ciudad desde cualquier lugar, lo que podría explicar hasta cierto punto los altos promedios. Mi consejo personal para los turistas sería considerar un alojamiento más asequible fuera del centro de la ciudad, en un vecindario seguro y con buenas conexiones de transporte público al centro de la ciudad de todos modos. Sin embargo, ¿las diferencias entre las mejores ubicaciones y los vecindarios exteriores son realmente tan pequeñas? ¡Vamos a averiguarlo en la siguiente sección!\n"
   ]
  },
  {
   "cell_type": "code",
   "execution_count": null,
   "metadata": {},
   "outputs": [],
   "source": [
    "# Group by neighbourhood and calculate the mean review score location for listings with at least 10 reviews\n",
    "feq1 = df_distancia[df_distancia['number_of_reviews'] >= 10].groupby('neighbourhood')['review_scores_location'].mean().sort_values(ascending=True)\n",
    "\n",
    "# Create bar chart using Plotly Express\n",
    "fig1 = px.bar(feq1, x='review_scores_location', y=feq1.index, orientation='h', color='review_scores_location', color_continuous_scale='RdYlGn')\n",
    "fig1.update_layout(xaxis_title=\"Score (scale 1-10)\", yaxis_title=\"\") \n",
    "\n",
    "# Group by neighbourhood and calculate the mean daily price for 2-person accommodations\n",
    "feq2 = df_distancia[df_distancia['accommodates'] == 2].groupby('neighbourhood')['price'].mean().sort_values(ascending=True)\n",
    "\n",
    "# Create bar chart using Plotly Express\n",
    "fig2 = px.bar(feq2, x='price', y=feq2.index, orientation='h', color='price', color_continuous_scale='viridis')\n",
    "fig2.update_layout(xaxis_title=\"Average daily price (Euro)\", yaxis_title=\"\")\n",
    "\n",
    "# Combine the two charts into a single subplot\n",
    "figures = sp.make_subplots(rows=2, cols=1, subplot_titles=(\"Average review score location (at least 10 reviews)\", \"Average daily price for a 2-persons accommodation\"))\n",
    "\n",
    "# Add each bar chart to the subplot\n",
    "figures.add_trace(fig1['data'][0], row=1, col=1)\n",
    "figures.add_trace(fig2['data'][0], row=2, col=1)\n",
    "\n",
    "# Update the layout of the subplot\n",
    "figures.update_layout(\n",
    "    title_text=\"Locations\",\n",
    "    height=800,\n",
    "    width=1000,\n",
    "    font_size=12,\n",
    "    showlegend=False\n",
    ")\n",
    "# TODO CUIDADO CON LA BARRA DE COLORES"
   ]
  },
  {
   "cell_type": "markdown",
   "metadata": {},
   "source": [
    "## 1.9. <a id='toc1_9_'></a>[Cómo usar las puntuaciones de las opiniones](#toc0_)"
   ]
  },
  {
   "attachments": {},
   "cell_type": "markdown",
   "metadata": {},
   "source": [
    "Además de las reseñas escritas, los invitados pueden enviar una calificación de estrellas general y un conjunto de calificaciones de estrellas de categoría. Los huéspedes pueden dar calificaciones sobre:\n",
    "\n",
    "* Experiencia general. ¿Cuál fue su experiencia en general?\n",
    "* Limpieza. ¿Sentiste que tu espacio estaba limpio y ordenado?\n",
    "* Precisión. ¿Con qué precisión su página de listado representó su espacio?\n",
    "* Valor. ¿Sintió que su listado proporcionó un buen valor por el precio?\n",
    "* Comunicación. ¿Qué tan bien se comunicó con su anfitrión antes y durante su estadía?\n",
    "* Llegada. ¿Qué tan bien fue su registro?\n",
    "* Ubicación. ¿Cómo te sentiste en el barrio?\n",
    "\n",
    "A continuación puede ver la distribución de puntajes de todas esas categorías. ¡Lo que me llamó la atención de inmediato es que las puntuaciones parecen realmente altas en todos los ámbitos!. Está bien explicado en este artículo: [¿Más alta que la calificación promedio? El 95 % de los listados de Airbnb calificaron de 4,5 a 5 estrellas](https://mashable.com/2015/02/25/airbnb-reviews-above-average/?europe=true#1YLfzOC34sqd).\n",
    "\n",
    "Después de haber visto las distribuciones de puntajes, personalmente consideraría que cualquier puntaje de 8 o inferior no es un buen puntaje."
   ]
  },
  {
   "cell_type": "code",
   "execution_count": null,
   "metadata": {},
   "outputs": [],
   "source": [
    "df_distancia.shape"
   ]
  },
  {
   "cell_type": "code",
   "execution_count": null,
   "metadata": {},
   "outputs": [],
   "source": [
    "# Select listings with at least 10 reviews\n",
    "listings10 = df_distancia[df_distancia['number_of_reviews']>=10]\n",
    "\n",
    "# Create histogram figures for each review category\n",
    "fig1 = px.histogram(listings10, x='review_scores_location',\n",
    "             barmode='group', category_orders={'review_scores_location': sorted(listings10['review_scores_location'].unique())})\n",
    "fig1.update_layout(title=\"Location\", xaxis_title=\"Average review score\", yaxis_title=\"Number of listings\", font_size=14)\n",
    "\n",
    "fig2 = px.histogram(listings10, x='review_scores_cleanliness',\n",
    "              barmode='group', category_orders={'review_scores_cleanliness': sorted(listings10['review_scores_cleanliness'].unique())})\n",
    "fig2.update_layout(title=\"Cleanliness\", xaxis_title=\"Average review score\", yaxis_title=\"Number of listings\", font_size=14)\n",
    "\n",
    "fig3 = px.histogram(listings10, x='review_scores_value',\n",
    "              barmode='group', category_orders={'review_scores_value': sorted(listings10['review_scores_value'].unique())})\n",
    "fig3.update_layout(title=\"Value\", xaxis_title=\"Average review score\", yaxis_title=\"Number of listings\", font_size=14)\n",
    "\n",
    "fig4 = px.histogram(listings10, x='review_scores_communication',\n",
    "              barmode='group', category_orders={'review_scores_communication': sorted(listings10['review_scores_communication'].unique())})\n",
    "fig4.update_layout(title=\"Communication\", xaxis_title=\"Average review score\", yaxis_title=\"Number of listings\", font_size=14)\n",
    "\n",
    "fig5 = px.histogram(listings10, x='review_scores_checkin',\n",
    "              barmode='group', category_orders={'review_scores_checkin': sorted(listings10['review_scores_checkin'].unique())})\n",
    "fig5.update_layout(title=\"Arrival\", xaxis_title=\"Average review score\", yaxis_title=\"Number of listings\", font_size=14)\n",
    "\n",
    "fig6 = px.histogram(listings10, x='review_scores_accuracy',\n",
    "              barmode='group', category_orders={'review_scores_accuracy': sorted(listings10['review_scores_accuracy'].unique())})\n",
    "fig6.update_layout(title=\"Accuracy\", xaxis_title=\"Average review score\", yaxis_title=\"Number of listings\", font_size=14)\n",
    "\n",
    "# Create subplot with 2 rows and 3 columns, with titles for each subplot\n",
    "figs = sp.make_subplots(rows=2, cols=3, subplot_titles=(\"Location\", \"Cleanliness\", \"Value\", \"Communication\", \"Arrival\", \"Accuracy\"))\n",
    "\n",
    "# Add each bar chart to the subplot\n",
    "figs.add_trace(fig1['data'][0], row=1, col=1)\n",
    "figs.add_trace(fig2['data'][0], row=1, col=2)\n",
    "figs.add_trace(fig3['data'][0], row=1, col=3)\n",
    "figs.add_trace(fig4['data'][0], row=2, col=1)\n",
    "figs.add_trace(fig5['data'][0], row=2, col=2)\n",
    "figs.add_trace(fig6['data'][0], row=2, col=3)\n",
    "\n",
    "# Update layout for the subplot\n",
    "figs.update_layout(\n",
    "    title_text=\"Review Scores\",\n",
    "    height=800,\n",
    "    width=1000,\n",
    "    font_size=12,\n",
    "    showlegend=False\n",
    ")\n",
    "# TODO INTENTAR PONER EL COLOR DE LAS REVIEWS\n",
    "# Show"
   ]
  },
  {
   "cell_type": "markdown",
   "metadata": {},
   "source": [
    "### 1.9.1. <a id='toc1_9_1_'></a>[Encontrando un buen hospedador](#toc0_)\n",
    "\n"
   ]
  },
  {
   "attachments": {},
   "cell_type": "markdown",
   "metadata": {},
   "source": [
    "En Airbnb puedes obtener el estatus de \"Superhost\". De Airbnb:\n",
    "* Como SuperAnfitrión, tendrá más visibilidad, potencial de ingresos y recompensas exclusivas. Es nuestra manera de decir gracias por su hospitalidad excepcional.\n",
    "* Cómo convertirse en Superhost: cada 3 meses, verificamos si cumple con los siguientes criterios. Si lo haces, ganarás o mantendrás tu estatus de SuperAnfitrión.\n",
    "    * Los Superanfitriones tienen una calificación general promedio de 4.8 o superior según las reseñas de al menos el 50 % de sus huéspedes de Airbnb durante el último año.\n",
    "    * Los Superhosts han alojado al menos 10 estadías en el último año o, si realizan reservas a más largo plazo, 100 noches en al menos 3 estadías.\n",
    "    * Los Superhosts no tienen cancelaciones en el último año, a menos que haya circunstancias atenuantes.\n",
    "    * Los Superhosts responden al 90 % de los mensajes nuevos en 24 horas.\n",
    "\n",
    "A continuación, podemos ver que solo una pequeña parte de los listados en Ámsterdam tienen un anfitrión que es Superanfitrión."
   ]
  },
  {
   "cell_type": "code",
   "execution_count": null,
   "metadata": {},
   "outputs": [],
   "source": [
    "df_frequencies = df_distancia['host_is_superhost'].value_counts(normalize=True).reset_index()\n",
    "df_frequencies.columns = ['Superhost', 'Percentage']\n",
    "df_frequencies['Percentage'] = df_frequencies['Percentage'] * 100\n",
    "\n",
    "fig = px.bar(df_frequencies, x='Superhost', y='Percentage',\n",
    "             labels={'Superhost': 'Superhost', 'Percentage': 'Percentage (%)'},\n",
    "             color='Superhost',\n",
    "             color_discrete_map={'f': 'rgb(255, 0, 0)', 't': 'rgb(0, 128, 0)'})\n",
    "\n",
    "fig.update_traces(texttemplate='%{y:.2f}%', textposition='inside')\n",
    "fig.update_layout(uniformtext_minsize=8, uniformtext_mode='hide')\n",
    "fig.update_layout(legend_title='Superhost', legend=dict(orientation=\"h\", yanchor=\"bottom\", y=1.02, xanchor=\"right\", x=1))\n",
    "\n",
    "fig.update_layout(\n",
    "    title_text=\"Percentage of Superhost\",\n",
    "    height=400,\n",
    "    width=1000,\n",
    "    font_size=12,\n",
    "    showlegend=False\n",
    ")"
   ]
  },
  {
   "attachments": {},
   "cell_type": "markdown",
   "metadata": {},
   "source": [
    "Si tuviéramos que reservar alojamiento, no buscaríamos necesariamente un superhost. En realidad, me temo que pagaría demasiado, ya que el superhost probablemente aumentará sus precios. Sin embargo, tampoco me gustaría un host que responde mal o cancela mucho.\n",
    "\n",
    "Como podemos ver, más de 5.000 de los 20.000 listados tienen al menos 10 reseñas y responden al menos al 90% de los mensajes nuevos. Consideraría que esos anfitriones son buenos respondedores \"probados\" (lo que no significa que una lista con menos de 10 reseñas no pueda tener buenos anfitriones que respondan; simplemente no está probado todavía). Además, hay muy pocos listados con anfitriones que no respondan a los mensajes nuevos dentro de las 24 horas."
   ]
  },
  {
   "cell_type": "code",
   "execution_count": null,
   "metadata": {},
   "outputs": [],
   "source": [
    "listings10 = df_distancia[df_distancia['number_of_reviews'] >= 10]\n",
    "feq1 = listings10['host_response_rate'].replace(0, np.nan).dropna().sort_values(ascending=True) #Cambiamos los valores 0 con los que rellenamos al principio por nan para poder droppearlos\n",
    "\n",
    "fig1 = px.histogram(feq1, nbins=35)\n",
    "fig1.update_layout(title='Response rate (at least 10 reviews)', xaxis_title='Percent', yaxis_title='Number of Listings', font=dict(size=20))\n",
    "\n",
    "#TODO Arreglar el gráfico 1 para que los límites de los ejes tengan sentido.\n",
    "\n",
    "response_time_counts = listings10.dropna(subset=['host_response_time'])['host_response_time'].value_counts().reset_index()\n",
    "response_time_counts.columns = ['response_time', 'count']\n",
    "\n",
    "fig2 = px.bar(response_time_counts, x='response_time', y='count', labels={'response_time': 'Response time', 'count': 'Number'})\n",
    "fig2.update_layout(title='Response time (at least 10 reviews)', xaxis_title_font_size=20, \n",
    "                   yaxis_title_font_size=20, font=dict(size=16))\n",
    "\n",
    "\n",
    "# Create subplot with 2 rows and 3 columns, with titles for each subplot\n",
    "figs = sp.make_subplots(rows=1, cols=2, subplot_titles=(\"Response rate\", \"Response time\"))\n",
    "\n",
    "# Add each bar chart to the subplot\n",
    "figs.add_trace(fig1['data'][0], row=1, col=1)\n",
    "figs.add_trace(fig2['data'][0], row=1, col=2)\n",
    "\n",
    "# Update layout for the subplot\n",
    "figs.update_layout(\n",
    "    title_text=\"Responses\",\n",
    "    height=400,\n",
    "    width=1000,\n",
    "    font_size=12,\n",
    "    showlegend=False, \n",
    "    template = 'plotly_dark'\n",
    ")\n"
   ]
  },
  {
   "cell_type": "markdown",
   "metadata": {},
   "source": [
    "## 1.10. <a id='toc1_10_'></a>[Disponibilidad en el tiempo](#toc0_)"
   ]
  },
  {
   "attachments": {},
   "cell_type": "markdown",
   "metadata": {},
   "source": [
    "El archivo de calendario contiene 365 registros para cada listado, lo que significa que para cada listado, el precio y la disponibilidad por fecha se especifican con 365 días de anticipación."
   ]
  },
  {
   "cell_type": "code",
   "execution_count": null,
   "metadata": {},
   "outputs": [],
   "source": [
    "df_calendar.price = df_calendar.price.str.replace(\",\",\"\")\n",
    "df_calendar['price'] = pd.to_numeric(df_calendar['price'].str.strip('$'))\n",
    "#df_calendar = df_calendar[df_calendar.date < '2023-1-1']"
   ]
  },
  {
   "cell_type": "code",
   "execution_count": null,
   "metadata": {},
   "outputs": [],
   "source": [
    "print(df_calendar.shape)"
   ]
  },
  {
   "cell_type": "code",
   "execution_count": null,
   "metadata": {},
   "outputs": [],
   "source": [
    "df_calendar.head()"
   ]
  },
  {
   "cell_type": "code",
   "execution_count": null,
   "metadata": {},
   "outputs": [],
   "source": [
    "df_distancia.head()"
   ]
  },
  {
   "attachments": {},
   "cell_type": "markdown",
   "metadata": {},
   "source": [
    "A continuación se muestra un ejemplo de los datos del calendario. Importante tener en cuenta: la disponibilidad es FALSE significa que el propietario no quiere alquilar su propiedad en la fecha específica o que la lista ya se ha reservado para esa fecha. Como queremos comparar manzanas con manzanas nuevamente con respecto a los precios en la siguiente sección, estamos fusionando la variable 'accomodate' con el calendario."
   ]
  },
  {
   "cell_type": "code",
   "execution_count": null,
   "metadata": {},
   "outputs": [],
   "source": [
    "df_calendar = pd.merge(df_distancia, df_calendar, left_on='id', right_index=True)"
   ]
  },
  {
   "cell_type": "code",
   "execution_count": null,
   "metadata": {},
   "outputs": [],
   "source": [
    "df_calendar.head()"
   ]
  },
  {
   "cell_type": "code",
   "execution_count": null,
   "metadata": {},
   "outputs": [],
   "source": [
    "df_calendar.columns"
   ]
  },
  {
   "cell_type": "code",
   "execution_count": null,
   "metadata": {},
   "outputs": [],
   "source": [
    "df_cal = df_calendar[['date', 'price_x', 'available', 'accommodates']]"
   ]
  },
  {
   "cell_type": "code",
   "execution_count": null,
   "metadata": {},
   "outputs": [],
   "source": [
    "df_cal.to_csv('output/df_cal.csv.gz', compression='gzip')"
   ]
  },
  {
   "attachments": {},
   "cell_type": "markdown",
   "metadata": {},
   "source": [
    "A continuación, vemos que hasta tres meses por delante, generalmente hay más alojamientos disponibles que en el futuro. Las razones de esto pueden ser que los anfitriones están actualizando más activamente sus calendarios en este período de tiempo. Este gráfico es **interactivo** y, al pasar el cursor sobre los puntos, se mostrará una información sobre herramientas con el \"número de listados disponibles\" y el \"día de la semana\" por fecha."
   ]
  },
  {
   "cell_type": "code",
   "execution_count": null,
   "metadata": {},
   "outputs": [],
   "source": [
    "\n",
    "# Leer los datos y convertir la columna 'date' en tipo datetime\n",
    "df_calendar['date'] = pd.to_datetime(df_calendar['date'])\n",
    "# Filtrar los datos para tener sólo los disponibles\n",
    "sum_available = df_calendar[df_calendar.available == \"t\"].groupby(['date']).size().to_frame(name= 'available').reset_index()\n",
    "\n",
    "# Agregar la columna de día de la semana\n",
    "sum_available['weekday'] = sum_available['date'].dt.day_name()\n",
    "\n",
    "# Establecer 'date' como el índice del DataFrame\n",
    "sum_available = sum_available.set_index('date')\n",
    "\n",
    "# Crear la figura de Plotly Express\n",
    "fig = px.line(sum_available, y='available', title='Number of listings available by date', template = 'plotly_dark')\n",
    "\n",
    "# Mostrar la figura\n",
    "fig.show()"
   ]
  },
  {
   "cell_type": "markdown",
   "metadata": {},
   "source": [
    "### 1.10.1. <a id='toc1_10_1_'></a>[Precio medio por día](#toc0_)"
   ]
  },
  {
   "attachments": {},
   "cell_type": "markdown",
   "metadata": {},
   "source": [
    "\n",
    "\n",
    "A continuación, verá el precio promedio de todos los alojamientos para 2 personas marcados como disponibles por fecha. El pico del precio promedio de 240 euros es el 31 de diciembre y el patrón cíclico se debe a precios más altos en los fines de semana. Sin embargo, sospecho que los precios para fechas más lejanas en el tiempo aún no están actualizados y probablemente sean precios predeterminados. Esto podría dar lugar a que el anfitrión no acepte una reserva si se da cuenta de que alguien está intentando reservar algo en una fecha que debería haber sido más cara de lo habitual. Este gráfico es **interactivo** y, al pasar el cursor sobre los puntos, se mostrará una información sobre herramientas con el precio promedio y el día de la semana por fecha."
   ]
  },
  {
   "cell_type": "code",
   "execution_count": null,
   "metadata": {},
   "outputs": [],
   "source": [
    "df_calendar"
   ]
  },
  {
   "cell_type": "code",
   "execution_count": null,
   "metadata": {},
   "outputs": [],
   "source": [
    "numeric_columns = df_calendar.select_dtypes(include=[np.number]).columns\n",
    "average_price = df_calendar[(df_calendar.available == \"t\") & (df_calendar.accommodates == 2)].groupby(['date'])[numeric_columns].mean().astype(np.int64).reset_index()\n",
    "average_price['weekday'] = average_price['date'].dt.day_name()\n",
    "average_price = average_price.set_index('date')"
   ]
  },
  {
   "cell_type": "code",
   "execution_count": null,
   "metadata": {},
   "outputs": [],
   "source": [
    "fig = px.line(average_price, x=average_price.index, y='price_x', title='Average price of available 2 persons accommodation by date')\n",
    "fig.update_traces(text=average_price['weekday'])\n",
    "fig.update_layout(xaxis_title='Date', yaxis_title='Price', template = 'plotly_dark')\n",
    "fig.show()"
   ]
  },
  {
   "cell_type": "code",
   "execution_count": null,
   "metadata": {},
   "outputs": [],
   "source": [
    "df_distancia.to_csv('output/df_distancia.csv', index= True)"
   ]
  },
  {
   "cell_type": "markdown",
   "metadata": {},
   "source": [
    "## 1.11. <a id='toc1_11_'></a>[Minería de texto con las reviews](#toc0_)"
   ]
  },
  {
   "cell_type": "markdown",
   "metadata": {},
   "source": [
    "Veamos ahora cómo podríamos obtener algo de información extra de las opiniones de los usuarios, en términos muy elementales. Esta sección es un preliminar muy introductorio y básico de un amplio área de estudio conocida como *topic modelling*.\n",
    "\n",
    "El archivo de \"reviews\" resultó no ser muy interesante, ya que solo contiene fechas de revisión para cada listado, lo que significa que solo es bueno para contar el número de revisiones. El archivo \"reviews_details\" contiene la misma información (y la misma cantidad de registros), con 4 columnas adicionales. Además, fusionamos host_id y host_names de la lista con el archivo reviews_details."
   ]
  },
  {
   "cell_type": "code",
   "execution_count": null,
   "metadata": {},
   "outputs": [],
   "source": [
    "df_reviews = pd.merge(df_reviews, df_oporto_review[['host_id', 'host_name', 'name']], left_on = \"listing_id\", right_index=True, how = \"left\")\n",
    "df_reviews = df_reviews.set_index('id')\n",
    "df_reviews = df_reviews[['listing_id', 'name', 'host_id', 'host_name', 'date', 'reviewer_id', 'reviewer_name', 'comments']]\n",
    "df_reviews"
   ]
  },
  {
   "cell_type": "code",
   "execution_count": null,
   "metadata": {},
   "outputs": [],
   "source": [
    "host_reviews = df_reviews.groupby(['host_id', 'host_name']).size().sort_values(ascending=False).to_frame(name = \"number_of_reviews\")\n",
    "host_reviews.head()"
   ]
  },
  {
   "cell_type": "code",
   "execution_count": null,
   "metadata": {},
   "outputs": [],
   "source": [
    "df_reviews.comments.head()"
   ]
  },
  {
   "cell_type": "markdown",
   "metadata": {},
   "source": [
    "## 1.12. <a id='toc1_12_'></a>[Mapa de Porto con AOI](#toc0_)"
   ]
  },
  {
   "cell_type": "code",
   "execution_count": null,
   "metadata": {},
   "outputs": [],
   "source": [
    "aoi = get_aoi(address=\"Porto, Portugal\", radius=1200, rectangular=False)\n",
    "df = get_osm_geometries(aoi=aoi)\n",
    "\n",
    "fig = Plot(\n",
    "    df=df,\n",
    "    aoi_bounds=aoi.bounds,\n",
    "    draw_settings=STYLES[\"Peach\"]\n",
    ").plot_all()\n",
    "\n",
    "fig.savefig(\"img/map.jpg\")"
   ]
  }
 ],
 "metadata": {
  "kernelspec": {
   "display_name": "myenv",
   "language": "python",
   "name": "python3"
  },
  "language_info": {
   "codemirror_mode": {
    "name": "ipython",
    "version": 3
   },
   "file_extension": ".py",
   "mimetype": "text/x-python",
   "name": "python",
   "nbconvert_exporter": "python",
   "pygments_lexer": "ipython3",
   "version": "3.11.2"
  },
  "orig_nbformat": 4,
  "vscode": {
   "interpreter": {
    "hash": "2333e8fa00aa38eb7c10fbca0c0d638ee9b4feecdcef5adb4d506507bc00df7a"
   }
  }
 },
 "nbformat": 4,
 "nbformat_minor": 2
}
